{
 "cells": [
  {
   "cell_type": "markdown",
   "metadata": {},
   "source": [
    "# Forecasting Brazil’s Oil Production using an ARIMA model and ANP data\n",
    "<b>Luís Eduardo Anunciado Silva</b> - BS in Information Technology, Federal University of Rio Grande do Norte<br>\n",
    "\n",
    "<b>Date</b>: November 12, 2018\n",
    "\n",
    "## Introduction\n",
    "My project aims to predict the yearly oil production of a given petroleum reservoir over a given time period, using an <b>ARIMA model</b> for <b>time series forecasting</b> and the [ANP public data base](http://www.anp.gov.br/dados-estatisticos).\n",
    "\n",
    "<p>I also aim to predict the top-10 petroleum reservoir in the Brazil that which will produce the largest amount of oil in the next 10 years.</p>\n",
    "\n",
    "\n",
    "### OBJECTIVE 1: Predicting the Oil Production of a Petroleum Reservoir across a Specified Time Period\n",
    "<p> Using the ANP public data base, we will do the following steps below:</p>\n",
    "\n",
    "<b>Pre-Processing:</b><br>\n",
    "<ol>\n",
    "<li>Build a dataframe with the columns: dt (in DateTime format), well, latitude, longitude.</li>\n",
    "<li>Dropping irrelevant columns and removing rows with NaN values</li>\n",
    "</ol>\n",
    "<b>Processing:</b><br>\n",
    "ARIMA models need the data to be stationary i.e. the data must not exhibit trend and/or seasonality. To identify and remove trend and seasonality, we used the following methods:\n",
    "<ol>\n",
    "<li>Plotting the time series to visually check for trend and seasonality</li>\n",
    "<li>Checking if the histogram of the data fits a Gaussian Curve, and then splitting data into two parts, calculating means and variances and seeing if they vary</li>\n",
    "<li>Calculating the Augmented Dickey-Fuller Test statistic and using the p-value to determine stationarity</li>\n",
    "</ol>\n",
    "If the data was not stationary, we performed <b>differencing</b> to make it stationary.\n",
    "<br><br>\n",
    "<b>Fitting the ARIMA model:</b><br>\n",
    "We performed a grid-search to estimate the best p, q values for the model, for the given data.<br>\n",
    "We then fit the ARIMA model using the calculated p, q values.\n",
    "<br><br>\n",
    "<b>Evaluation:</b><br>\n",
    "We calculated the <b>Mean Squared Error (MSE)</b> to estimate the performance of the model."
   ]
  },
  {
   "cell_type": "code",
   "execution_count": 2,
   "metadata": {},
   "outputs": [
    {
     "data": {
      "text/html": [
       "<script type=\"text/javascript\">window.PlotlyConfig = {MathJaxConfig: 'local'};</script><script type=\"text/javascript\">if (window.MathJax) {MathJax.Hub.Config({SVG: {font: \"STIX-Web\"}});}</script><script>requirejs.config({paths: { 'plotly': ['https://cdn.plot.ly/plotly-latest.min']},});if(!window._Plotly) {require(['plotly'],function(plotly) {window._Plotly=plotly;});}</script>"
      ],
      "text/vnd.plotly.v1+html": [
       "<script type=\"text/javascript\">window.PlotlyConfig = {MathJaxConfig: 'local'};</script><script type=\"text/javascript\">if (window.MathJax) {MathJax.Hub.Config({SVG: {font: \"STIX-Web\"}});}</script><script>requirejs.config({paths: { 'plotly': ['https://cdn.plot.ly/plotly-latest.min']},});if(!window._Plotly) {require(['plotly'],function(plotly) {window._Plotly=plotly;});}</script>"
      ]
     },
     "metadata": {},
     "output_type": "display_data"
    }
   ],
   "source": [
    "# import packages\n",
    "import pandas as pd\n",
    "import matplotlib.pyplot as plt\n",
    "import numpy as np\n",
    "from statsmodels.tsa.stattools import adfuller\n",
    "from statsmodels.graphics.tsaplots import plot_acf, plot_pacf\n",
    "from statsmodels.tsa.arima_model import ARIMA, ARMAResults\n",
    "from sklearn.metrics import mean_squared_error\n",
    "import ipywidgets as widgets\n",
    "import plotly.plotly as py\n",
    "import seaborn as sns\n",
    "from plotly.offline import download_plotlyjs, init_notebook_mode, plot, iplot\n",
    "import plotly.graph_objs as go\n",
    "init_notebook_mode(connected=True)\n",
    "\n",
    "# hide warnings\n",
    "import warnings\n",
    "warnings.simplefilter(\"ignore\")"
   ]
  },
  {
   "cell_type": "code",
   "execution_count": 28,
   "metadata": {},
   "outputs": [],
   "source": [
    "import pandas as pd\n",
    "\n",
    "#read file with the weels\n",
    "dfs = pd.read_excel('data/tabela_de_pocos_abril_2018.xlsx', sheet_name='Plan1')\n",
    "dfs = dfs.drop({'CADASTRO', 'OPERADOR', 'POCO_OPERADOR', 'ESTADO', 'BACIA', 'BLOCO', 'SIG_CAMPO', 'CAMPO', 'TERRA_MAR', \n",
    "                'POCO_POS_ANP', 'INICIO', 'TERMINO', 'CONCLUSAO', 'TITULARIDADE', 'LATITUDE_BASE_4C', \n",
    "                'LONGITUDE_BASE_4C', 'DATUM_HORIZONTAL', 'TIPO_DE_COORDENADA_DE_BASE', 'DIRECAO', 'PROFUNDIDADE_VERTICAL_M',\n",
    "                'PROFUNDIDADE_SONDADOR_M','PROFUNDIDADE_MEDIDA_M', 'REFERENCIA_DE_PROFUNDIDADE', 'MESA_ROTATIVA', \n",
    "                'COTA_ALTIMETRICA_M','LAMINA_D_AGUA_M', 'DATUM_VERTICAL', 'UNIDADE_ESTRATIGRAFICA', 'GEOLOGIA_GRUPO_FINAL',\n",
    "                'GEOLOGIA_FORMACAO_FINAL', 'GEOLOGIA_MEMBRO_FINAL', 'CDPE', 'AGP', 'PC', 'PAG', 'PERFIS_CONVENCIONAIS',\n",
    "                'DURANTE_PERFURACAO', 'PERFIS_DIGITAIS', 'PERFIS_PROCESSADOS', 'PERFIS_ESPECIAIS', 'AMOSTRA_LATERAL', \n",
    "                'SISMICA', 'TABELA_TEMPO_PROFUNDIDADE', 'DADOS_DIRECIONAIS', 'TESTE_A_CABO', 'CANHONEIO', 'TESTEMUNHO', \n",
    "                'GEOQUIMICA', 'SIG_SONDA', 'NOM_SONDA', 'DHA_ATUALIZACAO'}, 1)"
   ]
  },
  {
   "cell_type": "code",
   "execution_count": 29,
   "metadata": {},
   "outputs": [],
   "source": [
    "def get_produtors(dfs):\n",
    "    '''\n",
    "    Filters producting wells in a field\n",
    "    '''\n",
    "    return dfs[(dfs['TIPO']==u'Explotatório') & (dfs['SITUACAO']=='PRODUZINDO') & \n",
    "               (dfs['CATEGORIA']=='Desenvolvimento') & (dfs['RECLASSIFICACAO']==u'PRODUTOR COMERCIAL DE PETRÓLEO')]"
   ]
  },
  {
   "cell_type": "code",
   "execution_count": 30,
   "metadata": {},
   "outputs": [],
   "source": [
    "def get_injections(dfs):\n",
    "    '''\n",
    "    Filters the injection wells in a field\n",
    "    '''\n",
    "    return dfs[(dfs['TIPO']==u'Explotatório') & (dfs['SITUACAO']=='INJETANDO') & \\\n",
    "            (dfs['CATEGORIA']==u'Injeção') & (dfs['RECLASSIFICACAO']==u'INJEÇÃO DE ÁGUA')]"
   ]
  },
  {
   "cell_type": "code",
   "execution_count": 33,
   "metadata": {},
   "outputs": [],
   "source": [
    "produtors = get_produtors(dfs)\n",
    "injetors = get_injections(dfs)\n",
    "dfs = pd.concat([produtors, injetors]).reset_index(inplace=True)"
   ]
  },
  {
   "cell_type": "code",
   "execution_count": 34,
   "metadata": {},
   "outputs": [],
   "source": [
    "dfs"
   ]
  },
  {
   "cell_type": "markdown",
   "metadata": {},
   "source": [
    "### OBJECTIVE 2: Top-10 Cities in the US with Maximum Temperature Change"
   ]
  },
  {
   "cell_type": "code",
   "execution_count": null,
   "metadata": {},
   "outputs": [],
   "source": []
  },
  {
   "cell_type": "markdown",
   "metadata": {},
   "source": [
    "## Conclusion\n",
    "\n",
    "In this project, we:\n",
    "\n",
    "<ul>\n",
    "<li>Forecasted the temperature of a given city over a given period of time</li>\n",
    "<li>Predicted the top-10 cities in the US which will experience the most temperature change from 2013-2013.</li>\n",
    "<li>Analyzed the correlation between pollution levels and temperature, as well as the correlation between Greenhouse gas emissions and temperature, which helped us identify the Greenhouse Gas that has and will have the most impact on temperature change.</li>\n",
    "</ul>"
   ]
  },
  {
   "cell_type": "markdown",
   "metadata": {},
   "source": [
    "## Refference\n",
    "\n",
    "<ul>\n",
    "<li>Forecasted the temperature of a given city over a given period of time</li>\n",
    "<li>Predicted the top-10 cities in the US which will experience the most temperature change from 2013-2013.</li>\n",
    "<li>Analyzed the correlation between pollution levels and temperature, as well as the correlation between Greenhouse gas emissions and temperature, which helped us identify the Greenhouse Gas that has and will have the most impact on temperature change.</li>\n",
    "</ul>"
   ]
  },
  {
   "cell_type": "code",
   "execution_count": null,
   "metadata": {},
   "outputs": [],
   "source": []
  }
 ],
 "metadata": {
  "kernelspec": {
   "display_name": "Python 3",
   "language": "python",
   "name": "python3"
  },
  "language_info": {
   "codemirror_mode": {
    "name": "ipython",
    "version": 3
   },
   "file_extension": ".py",
   "mimetype": "text/x-python",
   "name": "python",
   "nbconvert_exporter": "python",
   "pygments_lexer": "ipython3",
   "version": "3.5.3"
  }
 },
 "nbformat": 4,
 "nbformat_minor": 2
}
